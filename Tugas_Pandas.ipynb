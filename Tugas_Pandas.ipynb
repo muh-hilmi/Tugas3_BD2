{
  "cells": [
    {
      "cell_type": "markdown",
      "id": "65e8a51c-b67e-4345-8d9a-c0e5b1f02580",
      "metadata": {
        "id": "65e8a51c-b67e-4345-8d9a-c0e5b1f02580"
      },
      "source": [
        "##Python for Data Analysis : Data Preprocessing with Pandas\n"
      ]
    },
    {
      "cell_type": "markdown",
      "id": "64b41851-3396-461b-a61c-c2b6ab75fbb4",
      "metadata": {
        "id": "64b41851-3396-461b-a61c-c2b6ab75fbb4"
      },
      "source": [
        "# Join\n",
        "\n",
        "Using two of the dataframes below, answer the questions :"
      ]
    },
    {
      "cell_type": "code",
      "execution_count": 18,
      "id": "783fc86d-2508-4d40-82f9-3178286e26a3",
      "metadata": {
        "id": "783fc86d-2508-4d40-82f9-3178286e26a3"
      },
      "outputs": [],
      "source": [
        "df1 = pd.DataFrame({'key': ['K0', 'K1', 'K2', 'K3', 'K4', 'K5'],\n",
        "                   'A': ['A0', 'A1', 'A2', 'A3', 'A4', 'A5']})\n",
        "                   \n",
        "df2 = pd.DataFrame({'key': ['K0', 'K1', 'K2'],\n",
        "                      'B': ['B0', 'B1', 'B2']})"
      ]
    },
    {
      "cell_type": "code",
      "execution_count": 19,
      "id": "7a5b67b5-dfc5-4195-bce5-8b90a6c32a2b",
      "metadata": {
        "id": "7a5b67b5-dfc5-4195-bce5-8b90a6c32a2b"
      },
      "outputs": [],
      "source": [
        "#import libraries here\n",
        "import pandas as pd "
      ]
    },
    {
      "cell_type": "markdown",
      "id": "6b0105b8-40ec-47d5-8099-dc778451cbb2",
      "metadata": {
        "id": "6b0105b8-40ec-47d5-8099-dc778451cbb2"
      },
      "source": [
        "### Create a dataframe (df3) which consists both dataframe inner-joined by column \"Key\" (5 pts)"
      ]
    },
    {
      "cell_type": "code",
      "execution_count": 20,
      "id": "eb6a1303-f998-41db-b136-d11ad78ae7bf",
      "metadata": {
        "id": "eb6a1303-f998-41db-b136-d11ad78ae7bf"
      },
      "outputs": [
        {
          "data": {
            "text/html": [
              "<div>\n",
              "<style scoped>\n",
              "    .dataframe tbody tr th:only-of-type {\n",
              "        vertical-align: middle;\n",
              "    }\n",
              "\n",
              "    .dataframe tbody tr th {\n",
              "        vertical-align: top;\n",
              "    }\n",
              "\n",
              "    .dataframe thead th {\n",
              "        text-align: right;\n",
              "    }\n",
              "</style>\n",
              "<table border=\"1\" class=\"dataframe\">\n",
              "  <thead>\n",
              "    <tr style=\"text-align: right;\">\n",
              "      <th></th>\n",
              "      <th>key</th>\n",
              "      <th>A</th>\n",
              "      <th>B</th>\n",
              "    </tr>\n",
              "  </thead>\n",
              "  <tbody>\n",
              "    <tr>\n",
              "      <th>0</th>\n",
              "      <td>K0</td>\n",
              "      <td>A0</td>\n",
              "      <td>B0</td>\n",
              "    </tr>\n",
              "    <tr>\n",
              "      <th>1</th>\n",
              "      <td>K1</td>\n",
              "      <td>A1</td>\n",
              "      <td>B1</td>\n",
              "    </tr>\n",
              "    <tr>\n",
              "      <th>2</th>\n",
              "      <td>K2</td>\n",
              "      <td>A2</td>\n",
              "      <td>B2</td>\n",
              "    </tr>\n",
              "  </tbody>\n",
              "</table>\n",
              "</div>"
            ],
            "text/plain": [
              "  key   A   B\n",
              "0  K0  A0  B0\n",
              "1  K1  A1  B1\n",
              "2  K2  A2  B2"
            ]
          },
          "execution_count": 20,
          "metadata": {},
          "output_type": "execute_result"
        }
      ],
      "source": [
        "#code goes here\n",
        "df3 = pd.merge(df1,df2,how='inner',on=['key','key'])\n",
        "df3"
      ]
    },
    {
      "cell_type": "markdown",
      "id": "e745f272-1841-4b85-8ed0-767a7394a9c9",
      "metadata": {
        "id": "e745f272-1841-4b85-8ed0-767a7394a9c9"
      },
      "source": [
        "### Create a dataframe (df4) which consists of the result of df1 and df2 left-joined by column \"Key\" (10pts)"
      ]
    },
    {
      "cell_type": "code",
      "execution_count": 21,
      "id": "dfaccae1-d2c3-48aa-a455-977c89b5a032",
      "metadata": {
        "id": "dfaccae1-d2c3-48aa-a455-977c89b5a032"
      },
      "outputs": [
        {
          "data": {
            "text/html": [
              "<div>\n",
              "<style scoped>\n",
              "    .dataframe tbody tr th:only-of-type {\n",
              "        vertical-align: middle;\n",
              "    }\n",
              "\n",
              "    .dataframe tbody tr th {\n",
              "        vertical-align: top;\n",
              "    }\n",
              "\n",
              "    .dataframe thead th {\n",
              "        text-align: right;\n",
              "    }\n",
              "</style>\n",
              "<table border=\"1\" class=\"dataframe\">\n",
              "  <thead>\n",
              "    <tr style=\"text-align: right;\">\n",
              "      <th></th>\n",
              "      <th>key</th>\n",
              "      <th>A</th>\n",
              "      <th>B</th>\n",
              "    </tr>\n",
              "  </thead>\n",
              "  <tbody>\n",
              "    <tr>\n",
              "      <th>0</th>\n",
              "      <td>K0</td>\n",
              "      <td>A0</td>\n",
              "      <td>B0</td>\n",
              "    </tr>\n",
              "    <tr>\n",
              "      <th>1</th>\n",
              "      <td>K1</td>\n",
              "      <td>A1</td>\n",
              "      <td>B1</td>\n",
              "    </tr>\n",
              "    <tr>\n",
              "      <th>2</th>\n",
              "      <td>K2</td>\n",
              "      <td>A2</td>\n",
              "      <td>B2</td>\n",
              "    </tr>\n",
              "    <tr>\n",
              "      <th>3</th>\n",
              "      <td>K3</td>\n",
              "      <td>A3</td>\n",
              "      <td>NaN</td>\n",
              "    </tr>\n",
              "    <tr>\n",
              "      <th>4</th>\n",
              "      <td>K4</td>\n",
              "      <td>A4</td>\n",
              "      <td>NaN</td>\n",
              "    </tr>\n",
              "    <tr>\n",
              "      <th>5</th>\n",
              "      <td>K5</td>\n",
              "      <td>A5</td>\n",
              "      <td>NaN</td>\n",
              "    </tr>\n",
              "  </tbody>\n",
              "</table>\n",
              "</div>"
            ],
            "text/plain": [
              "  key   A    B\n",
              "0  K0  A0   B0\n",
              "1  K1  A1   B1\n",
              "2  K2  A2   B2\n",
              "3  K3  A3  NaN\n",
              "4  K4  A4  NaN\n",
              "5  K5  A5  NaN"
            ]
          },
          "execution_count": 21,
          "metadata": {},
          "output_type": "execute_result"
        }
      ],
      "source": [
        "#code goes here\n",
        "df4 = pd.merge(df1,df2,how='left',on=['key','key'])\n",
        "df4"
      ]
    },
    {
      "cell_type": "markdown",
      "id": "8de93dbb-8281-41b7-a33c-5677f57b3f91",
      "metadata": {
        "id": "8de93dbb-8281-41b7-a33c-5677f57b3f91"
      },
      "source": [
        "#### 1. Replace key \"K2\" into \"K3\" on df1\n",
        "#### 2. Left join it with df2 \n",
        "(15pts)"
      ]
    },
    {
      "cell_type": "code",
      "execution_count": 23,
      "id": "58b90686-9275-4c32-8553-4e14ded15183",
      "metadata": {
        "id": "58b90686-9275-4c32-8553-4e14ded15183"
      },
      "outputs": [
        {
          "data": {
            "text/html": [
              "<div>\n",
              "<style scoped>\n",
              "    .dataframe tbody tr th:only-of-type {\n",
              "        vertical-align: middle;\n",
              "    }\n",
              "\n",
              "    .dataframe tbody tr th {\n",
              "        vertical-align: top;\n",
              "    }\n",
              "\n",
              "    .dataframe thead th {\n",
              "        text-align: right;\n",
              "    }\n",
              "</style>\n",
              "<table border=\"1\" class=\"dataframe\">\n",
              "  <thead>\n",
              "    <tr style=\"text-align: right;\">\n",
              "      <th></th>\n",
              "      <th>key</th>\n",
              "      <th>A</th>\n",
              "      <th>B</th>\n",
              "    </tr>\n",
              "  </thead>\n",
              "  <tbody>\n",
              "    <tr>\n",
              "      <th>0</th>\n",
              "      <td>K0</td>\n",
              "      <td>A0</td>\n",
              "      <td>B0</td>\n",
              "    </tr>\n",
              "    <tr>\n",
              "      <th>1</th>\n",
              "      <td>K1</td>\n",
              "      <td>A1</td>\n",
              "      <td>B1</td>\n",
              "    </tr>\n",
              "    <tr>\n",
              "      <th>2</th>\n",
              "      <td>K3</td>\n",
              "      <td>A2</td>\n",
              "      <td>NaN</td>\n",
              "    </tr>\n",
              "    <tr>\n",
              "      <th>3</th>\n",
              "      <td>K3</td>\n",
              "      <td>A3</td>\n",
              "      <td>NaN</td>\n",
              "    </tr>\n",
              "    <tr>\n",
              "      <th>4</th>\n",
              "      <td>K4</td>\n",
              "      <td>A4</td>\n",
              "      <td>NaN</td>\n",
              "    </tr>\n",
              "    <tr>\n",
              "      <th>5</th>\n",
              "      <td>K5</td>\n",
              "      <td>A5</td>\n",
              "      <td>NaN</td>\n",
              "    </tr>\n",
              "  </tbody>\n",
              "</table>\n",
              "</div>"
            ],
            "text/plain": [
              "  key   A    B\n",
              "0  K0  A0   B0\n",
              "1  K1  A1   B1\n",
              "2  K3  A2  NaN\n",
              "3  K3  A3  NaN\n",
              "4  K4  A4  NaN\n",
              "5  K5  A5  NaN"
            ]
          },
          "execution_count": 23,
          "metadata": {},
          "output_type": "execute_result"
        }
      ],
      "source": [
        "#code goes here\n",
        "replace = df1.replace(to_replace=['K2'],value='K3')\n",
        "leftjoin = pd.merge(replace,df2,how='left',on=['key','key'])\n",
        "leftjoin"
      ]
    },
    {
      "cell_type": "markdown",
      "id": "8fee30c8-b38b-46fa-8b97-3f44060aba8d",
      "metadata": {
        "id": "8fee30c8-b38b-46fa-8b97-3f44060aba8d"
      },
      "source": [
        "# Dataframe Processing\n"
      ]
    },
    {
      "cell_type": "markdown",
      "id": "ad37cd47-c8b2-4c62-af8d-8123786836a3",
      "metadata": {
        "id": "ad37cd47-c8b2-4c62-af8d-8123786836a3"
      },
      "source": [
        "Create a dictionary and convert it to a dataframe called \"Customer_df\" (15 pts)\n",
        "\n",
        "\n",
        "name=['Anna','Jason','Cindy']\n",
        "\n",
        "age=['22','23','21']\n",
        "\n",
        "gender=['F','M','F']\n",
        "\n",
        "\n"
      ]
    },
    {
      "cell_type": "code",
      "execution_count": null,
      "id": "7a32ace6-0362-468f-b381-a45d31006b28",
      "metadata": {
        "id": "7a32ace6-0362-468f-b381-a45d31006b28"
      },
      "outputs": [],
      "source": [
        "#code goes here"
      ]
    },
    {
      "cell_type": "markdown",
      "id": "4b110409-c42c-497f-8922-873c914fc7e6",
      "metadata": {
        "id": "4b110409-c42c-497f-8922-873c914fc7e6"
      },
      "source": [
        "### Delete the \"age\" column (5 pts)"
      ]
    },
    {
      "cell_type": "code",
      "execution_count": null,
      "id": "761d2eb4-14ed-42d6-b6cc-a4f097e64681",
      "metadata": {
        "id": "761d2eb4-14ed-42d6-b6cc-a4f097e64681"
      },
      "outputs": [],
      "source": [
        "#code goes here"
      ]
    },
    {
      "cell_type": "markdown",
      "id": "16a3002f-19e6-456b-8776-d82097d7f110",
      "metadata": {
        "id": "16a3002f-19e6-456b-8776-d82097d7f110"
      },
      "source": [
        "### Rename the \"name\" column into \"first name\" (10 pts)"
      ]
    },
    {
      "cell_type": "code",
      "execution_count": null,
      "id": "320d14c7-a073-417b-9317-0ebd88d2223f",
      "metadata": {
        "id": "320d14c7-a073-417b-9317-0ebd88d2223f"
      },
      "outputs": [],
      "source": [
        "#code goes here"
      ]
    },
    {
      "cell_type": "markdown",
      "id": "1346118a-9b7e-44c3-8dad-6cb5cdbb0333",
      "metadata": {
        "id": "1346118a-9b7e-44c3-8dad-6cb5cdbb0333"
      },
      "source": [
        "### Sort the dataframe by age, descending (10 pts)"
      ]
    },
    {
      "cell_type": "code",
      "execution_count": null,
      "id": "7c4be5dd-3f63-464c-bbc2-6b8c29615568",
      "metadata": {
        "id": "7c4be5dd-3f63-464c-bbc2-6b8c29615568"
      },
      "outputs": [],
      "source": [
        "#code goes here"
      ]
    },
    {
      "cell_type": "markdown",
      "id": "64a09a64-f167-4163-9240-7de099d9c727",
      "metadata": {
        "id": "64a09a64-f167-4163-9240-7de099d9c727"
      },
      "source": [
        "## Run the code below for data source and answer the following questions"
      ]
    },
    {
      "cell_type": "code",
      "execution_count": 25,
      "id": "e286adfa-6c32-461b-bc82-33f370018033",
      "metadata": {
        "id": "e286adfa-6c32-461b-bc82-33f370018033"
      },
      "outputs": [],
      "source": [
        "import pandas as pd\n",
        "df=pd.read_csv('http://bit.ly/kaggletrain')"
      ]
    },
    {
      "cell_type": "markdown",
      "id": "7a8e7165-96df-49e5-bc56-2113d6c587b9",
      "metadata": {
        "id": "7a8e7165-96df-49e5-bc56-2113d6c587b9"
      },
      "source": [
        "### Show top 10 rows of the dataset (5 pts)"
      ]
    },
    {
      "cell_type": "code",
      "execution_count": 26,
      "id": "6b0412c4-00e4-494a-9412-3b5c534552e7",
      "metadata": {
        "id": "6b0412c4-00e4-494a-9412-3b5c534552e7"
      },
      "outputs": [
        {
          "data": {
            "text/html": [
              "<div>\n",
              "<style scoped>\n",
              "    .dataframe tbody tr th:only-of-type {\n",
              "        vertical-align: middle;\n",
              "    }\n",
              "\n",
              "    .dataframe tbody tr th {\n",
              "        vertical-align: top;\n",
              "    }\n",
              "\n",
              "    .dataframe thead th {\n",
              "        text-align: right;\n",
              "    }\n",
              "</style>\n",
              "<table border=\"1\" class=\"dataframe\">\n",
              "  <thead>\n",
              "    <tr style=\"text-align: right;\">\n",
              "      <th></th>\n",
              "      <th>PassengerId</th>\n",
              "      <th>Survived</th>\n",
              "      <th>Pclass</th>\n",
              "      <th>Name</th>\n",
              "      <th>Sex</th>\n",
              "      <th>Age</th>\n",
              "      <th>SibSp</th>\n",
              "      <th>Parch</th>\n",
              "      <th>Ticket</th>\n",
              "      <th>Fare</th>\n",
              "      <th>Cabin</th>\n",
              "      <th>Embarked</th>\n",
              "    </tr>\n",
              "  </thead>\n",
              "  <tbody>\n",
              "    <tr>\n",
              "      <th>0</th>\n",
              "      <td>1</td>\n",
              "      <td>0</td>\n",
              "      <td>3</td>\n",
              "      <td>Braund, Mr. Owen Harris</td>\n",
              "      <td>male</td>\n",
              "      <td>22.0</td>\n",
              "      <td>1</td>\n",
              "      <td>0</td>\n",
              "      <td>A/5 21171</td>\n",
              "      <td>7.2500</td>\n",
              "      <td>NaN</td>\n",
              "      <td>S</td>\n",
              "    </tr>\n",
              "    <tr>\n",
              "      <th>1</th>\n",
              "      <td>2</td>\n",
              "      <td>1</td>\n",
              "      <td>1</td>\n",
              "      <td>Cumings, Mrs. John Bradley (Florence Briggs Th...</td>\n",
              "      <td>female</td>\n",
              "      <td>38.0</td>\n",
              "      <td>1</td>\n",
              "      <td>0</td>\n",
              "      <td>PC 17599</td>\n",
              "      <td>71.2833</td>\n",
              "      <td>C85</td>\n",
              "      <td>C</td>\n",
              "    </tr>\n",
              "    <tr>\n",
              "      <th>2</th>\n",
              "      <td>3</td>\n",
              "      <td>1</td>\n",
              "      <td>3</td>\n",
              "      <td>Heikkinen, Miss. Laina</td>\n",
              "      <td>female</td>\n",
              "      <td>26.0</td>\n",
              "      <td>0</td>\n",
              "      <td>0</td>\n",
              "      <td>STON/O2. 3101282</td>\n",
              "      <td>7.9250</td>\n",
              "      <td>NaN</td>\n",
              "      <td>S</td>\n",
              "    </tr>\n",
              "    <tr>\n",
              "      <th>3</th>\n",
              "      <td>4</td>\n",
              "      <td>1</td>\n",
              "      <td>1</td>\n",
              "      <td>Futrelle, Mrs. Jacques Heath (Lily May Peel)</td>\n",
              "      <td>female</td>\n",
              "      <td>35.0</td>\n",
              "      <td>1</td>\n",
              "      <td>0</td>\n",
              "      <td>113803</td>\n",
              "      <td>53.1000</td>\n",
              "      <td>C123</td>\n",
              "      <td>S</td>\n",
              "    </tr>\n",
              "    <tr>\n",
              "      <th>4</th>\n",
              "      <td>5</td>\n",
              "      <td>0</td>\n",
              "      <td>3</td>\n",
              "      <td>Allen, Mr. William Henry</td>\n",
              "      <td>male</td>\n",
              "      <td>35.0</td>\n",
              "      <td>0</td>\n",
              "      <td>0</td>\n",
              "      <td>373450</td>\n",
              "      <td>8.0500</td>\n",
              "      <td>NaN</td>\n",
              "      <td>S</td>\n",
              "    </tr>\n",
              "    <tr>\n",
              "      <th>5</th>\n",
              "      <td>6</td>\n",
              "      <td>0</td>\n",
              "      <td>3</td>\n",
              "      <td>Moran, Mr. James</td>\n",
              "      <td>male</td>\n",
              "      <td>NaN</td>\n",
              "      <td>0</td>\n",
              "      <td>0</td>\n",
              "      <td>330877</td>\n",
              "      <td>8.4583</td>\n",
              "      <td>NaN</td>\n",
              "      <td>Q</td>\n",
              "    </tr>\n",
              "    <tr>\n",
              "      <th>6</th>\n",
              "      <td>7</td>\n",
              "      <td>0</td>\n",
              "      <td>1</td>\n",
              "      <td>McCarthy, Mr. Timothy J</td>\n",
              "      <td>male</td>\n",
              "      <td>54.0</td>\n",
              "      <td>0</td>\n",
              "      <td>0</td>\n",
              "      <td>17463</td>\n",
              "      <td>51.8625</td>\n",
              "      <td>E46</td>\n",
              "      <td>S</td>\n",
              "    </tr>\n",
              "    <tr>\n",
              "      <th>7</th>\n",
              "      <td>8</td>\n",
              "      <td>0</td>\n",
              "      <td>3</td>\n",
              "      <td>Palsson, Master. Gosta Leonard</td>\n",
              "      <td>male</td>\n",
              "      <td>2.0</td>\n",
              "      <td>3</td>\n",
              "      <td>1</td>\n",
              "      <td>349909</td>\n",
              "      <td>21.0750</td>\n",
              "      <td>NaN</td>\n",
              "      <td>S</td>\n",
              "    </tr>\n",
              "    <tr>\n",
              "      <th>8</th>\n",
              "      <td>9</td>\n",
              "      <td>1</td>\n",
              "      <td>3</td>\n",
              "      <td>Johnson, Mrs. Oscar W (Elisabeth Vilhelmina Berg)</td>\n",
              "      <td>female</td>\n",
              "      <td>27.0</td>\n",
              "      <td>0</td>\n",
              "      <td>2</td>\n",
              "      <td>347742</td>\n",
              "      <td>11.1333</td>\n",
              "      <td>NaN</td>\n",
              "      <td>S</td>\n",
              "    </tr>\n",
              "    <tr>\n",
              "      <th>9</th>\n",
              "      <td>10</td>\n",
              "      <td>1</td>\n",
              "      <td>2</td>\n",
              "      <td>Nasser, Mrs. Nicholas (Adele Achem)</td>\n",
              "      <td>female</td>\n",
              "      <td>14.0</td>\n",
              "      <td>1</td>\n",
              "      <td>0</td>\n",
              "      <td>237736</td>\n",
              "      <td>30.0708</td>\n",
              "      <td>NaN</td>\n",
              "      <td>C</td>\n",
              "    </tr>\n",
              "  </tbody>\n",
              "</table>\n",
              "</div>"
            ],
            "text/plain": [
              "   PassengerId  Survived  Pclass  \\\n",
              "0            1         0       3   \n",
              "1            2         1       1   \n",
              "2            3         1       3   \n",
              "3            4         1       1   \n",
              "4            5         0       3   \n",
              "5            6         0       3   \n",
              "6            7         0       1   \n",
              "7            8         0       3   \n",
              "8            9         1       3   \n",
              "9           10         1       2   \n",
              "\n",
              "                                                Name     Sex   Age  SibSp  \\\n",
              "0                            Braund, Mr. Owen Harris    male  22.0      1   \n",
              "1  Cumings, Mrs. John Bradley (Florence Briggs Th...  female  38.0      1   \n",
              "2                             Heikkinen, Miss. Laina  female  26.0      0   \n",
              "3       Futrelle, Mrs. Jacques Heath (Lily May Peel)  female  35.0      1   \n",
              "4                           Allen, Mr. William Henry    male  35.0      0   \n",
              "5                                   Moran, Mr. James    male   NaN      0   \n",
              "6                            McCarthy, Mr. Timothy J    male  54.0      0   \n",
              "7                     Palsson, Master. Gosta Leonard    male   2.0      3   \n",
              "8  Johnson, Mrs. Oscar W (Elisabeth Vilhelmina Berg)  female  27.0      0   \n",
              "9                Nasser, Mrs. Nicholas (Adele Achem)  female  14.0      1   \n",
              "\n",
              "   Parch            Ticket     Fare Cabin Embarked  \n",
              "0      0         A/5 21171   7.2500   NaN        S  \n",
              "1      0          PC 17599  71.2833   C85        C  \n",
              "2      0  STON/O2. 3101282   7.9250   NaN        S  \n",
              "3      0            113803  53.1000  C123        S  \n",
              "4      0            373450   8.0500   NaN        S  \n",
              "5      0            330877   8.4583   NaN        Q  \n",
              "6      0             17463  51.8625   E46        S  \n",
              "7      1            349909  21.0750   NaN        S  \n",
              "8      2            347742  11.1333   NaN        S  \n",
              "9      0            237736  30.0708   NaN        C  "
            ]
          },
          "execution_count": 26,
          "metadata": {},
          "output_type": "execute_result"
        }
      ],
      "source": [
        "#code goes here\n",
        "df.head(10)"
      ]
    },
    {
      "cell_type": "markdown",
      "id": "738432e3-c2cf-42a6-b342-59d8b98d8c78",
      "metadata": {
        "id": "738432e3-c2cf-42a6-b342-59d8b98d8c78"
      },
      "source": [
        "## Using data aggregation in pandas , Answer the question below:"
      ]
    },
    {
      "cell_type": "markdown",
      "id": "f1e2f138-bfde-413d-af1b-36542c4e093d",
      "metadata": {
        "id": "f1e2f138-bfde-413d-af1b-36542c4e093d"
      },
      "source": [
        "Show the total amount of passengers who survived and not survived (10pts)"
      ]
    },
    {
      "cell_type": "code",
      "execution_count": 29,
      "id": "e3c78d84-5803-4ef5-a712-43d59b831af4",
      "metadata": {
        "id": "e3c78d84-5803-4ef5-a712-43d59b831af4"
      },
      "outputs": [
        {
          "ename": "AttributeError",
          "evalue": "'Survived' is not a valid function for 'Series' object",
          "output_type": "error",
          "traceback": [
            "\u001b[1;31m---------------------------------------------------------------------------\u001b[0m",
            "\u001b[1;31mAttributeError\u001b[0m                            Traceback (most recent call last)",
            "Cell \u001b[1;32mIn [29], line 2\u001b[0m\n\u001b[0;32m      1\u001b[0m \u001b[39m#code goes here\u001b[39;00m\n\u001b[1;32m----> 2\u001b[0m df\u001b[39m.\u001b[39;49magg([\u001b[39m'\u001b[39;49m\u001b[39mSurvived\u001b[39;49m\u001b[39m'\u001b[39;49m])\n",
            "File \u001b[1;32mc:\\Users\\USER\\AppData\\Local\\Programs\\Python\\Python310\\lib\\site-packages\\pandas\\core\\frame.py:9332\u001b[0m, in \u001b[0;36mDataFrame.aggregate\u001b[1;34m(self, func, axis, *args, **kwargs)\u001b[0m\n\u001b[0;32m   9329\u001b[0m relabeling, func, columns, order \u001b[39m=\u001b[39m reconstruct_func(func, \u001b[39m*\u001b[39m\u001b[39m*\u001b[39mkwargs)\n\u001b[0;32m   9331\u001b[0m op \u001b[39m=\u001b[39m frame_apply(\u001b[39mself\u001b[39m, func\u001b[39m=\u001b[39mfunc, axis\u001b[39m=\u001b[39maxis, args\u001b[39m=\u001b[39margs, kwargs\u001b[39m=\u001b[39mkwargs)\n\u001b[1;32m-> 9332\u001b[0m result \u001b[39m=\u001b[39m op\u001b[39m.\u001b[39;49magg()\n\u001b[0;32m   9334\u001b[0m \u001b[39mif\u001b[39;00m relabeling:\n\u001b[0;32m   9335\u001b[0m     \u001b[39m# This is to keep the order to columns occurrence unchanged, and also\u001b[39;00m\n\u001b[0;32m   9336\u001b[0m     \u001b[39m# keep the order of new columns occurrence unchanged\u001b[39;00m\n\u001b[0;32m   9337\u001b[0m \n\u001b[0;32m   9338\u001b[0m     \u001b[39m# For the return values of reconstruct_func, if relabeling is\u001b[39;00m\n\u001b[0;32m   9339\u001b[0m     \u001b[39m# False, columns and order will be None.\u001b[39;00m\n\u001b[0;32m   9340\u001b[0m     \u001b[39massert\u001b[39;00m columns \u001b[39mis\u001b[39;00m \u001b[39mnot\u001b[39;00m \u001b[39mNone\u001b[39;00m\n",
            "File \u001b[1;32mc:\\Users\\USER\\AppData\\Local\\Programs\\Python\\Python310\\lib\\site-packages\\pandas\\core\\apply.py:753\u001b[0m, in \u001b[0;36mFrameApply.agg\u001b[1;34m(self)\u001b[0m\n\u001b[0;32m    751\u001b[0m result \u001b[39m=\u001b[39m \u001b[39mNone\u001b[39;00m\n\u001b[0;32m    752\u001b[0m \u001b[39mtry\u001b[39;00m:\n\u001b[1;32m--> 753\u001b[0m     result \u001b[39m=\u001b[39m \u001b[39msuper\u001b[39;49m()\u001b[39m.\u001b[39;49magg()\n\u001b[0;32m    754\u001b[0m \u001b[39mexcept\u001b[39;00m \u001b[39mTypeError\u001b[39;00m \u001b[39mas\u001b[39;00m err:\n\u001b[0;32m    755\u001b[0m     exc \u001b[39m=\u001b[39m \u001b[39mTypeError\u001b[39;00m(\n\u001b[0;32m    756\u001b[0m         \u001b[39m\"\u001b[39m\u001b[39mDataFrame constructor called with \u001b[39m\u001b[39m\"\u001b[39m\n\u001b[0;32m    757\u001b[0m         \u001b[39mf\u001b[39m\u001b[39m\"\u001b[39m\u001b[39mincompatible data and dtype: \u001b[39m\u001b[39m{\u001b[39;00merr\u001b[39m}\u001b[39;00m\u001b[39m\"\u001b[39m\n\u001b[0;32m    758\u001b[0m     )\n",
            "File \u001b[1;32mc:\\Users\\USER\\AppData\\Local\\Programs\\Python\\Python310\\lib\\site-packages\\pandas\\core\\apply.py:172\u001b[0m, in \u001b[0;36mApply.agg\u001b[1;34m(self)\u001b[0m\n\u001b[0;32m    169\u001b[0m     \u001b[39mreturn\u001b[39;00m \u001b[39mself\u001b[39m\u001b[39m.\u001b[39magg_dict_like()\n\u001b[0;32m    170\u001b[0m \u001b[39melif\u001b[39;00m is_list_like(arg):\n\u001b[0;32m    171\u001b[0m     \u001b[39m# we require a list, but not a 'str'\u001b[39;00m\n\u001b[1;32m--> 172\u001b[0m     \u001b[39mreturn\u001b[39;00m \u001b[39mself\u001b[39;49m\u001b[39m.\u001b[39;49magg_list_like()\n\u001b[0;32m    174\u001b[0m \u001b[39mif\u001b[39;00m callable(arg):\n\u001b[0;32m    175\u001b[0m     f \u001b[39m=\u001b[39m com\u001b[39m.\u001b[39mget_cython_func(arg)\n",
            "File \u001b[1;32mc:\\Users\\USER\\AppData\\Local\\Programs\\Python\\Python310\\lib\\site-packages\\pandas\\core\\apply.py:383\u001b[0m, in \u001b[0;36mApply.agg_list_like\u001b[1;34m(self)\u001b[0m\n\u001b[0;32m    376\u001b[0m \u001b[39mtry\u001b[39;00m:\n\u001b[0;32m    377\u001b[0m     \u001b[39m# Capture and suppress any warnings emitted by us in the call\u001b[39;00m\n\u001b[0;32m    378\u001b[0m     \u001b[39m# to agg below, but pass through any warnings that were\u001b[39;00m\n\u001b[0;32m    379\u001b[0m     \u001b[39m# generated otherwise.\u001b[39;00m\n\u001b[0;32m    380\u001b[0m     \u001b[39m# This is necessary because of https://bugs.python.org/issue29672\u001b[39;00m\n\u001b[0;32m    381\u001b[0m     \u001b[39m# See GH #43741 for more details\u001b[39;00m\n\u001b[0;32m    382\u001b[0m     \u001b[39mwith\u001b[39;00m warnings\u001b[39m.\u001b[39mcatch_warnings(record\u001b[39m=\u001b[39m\u001b[39mTrue\u001b[39;00m) \u001b[39mas\u001b[39;00m record:\n\u001b[1;32m--> 383\u001b[0m         new_res \u001b[39m=\u001b[39m colg\u001b[39m.\u001b[39;49maggregate(arg)\n\u001b[0;32m    384\u001b[0m     \u001b[39mif\u001b[39;00m \u001b[39mlen\u001b[39m(record) \u001b[39m>\u001b[39m \u001b[39m0\u001b[39m:\n\u001b[0;32m    385\u001b[0m         match \u001b[39m=\u001b[39m re\u001b[39m.\u001b[39mcompile(depr_nuisance_columns_msg\u001b[39m.\u001b[39mformat(\u001b[39m\"\u001b[39m\u001b[39m.*\u001b[39m\u001b[39m\"\u001b[39m))\n",
            "File \u001b[1;32mc:\\Users\\USER\\AppData\\Local\\Programs\\Python\\Python310\\lib\\site-packages\\pandas\\core\\series.py:4608\u001b[0m, in \u001b[0;36mSeries.aggregate\u001b[1;34m(self, func, axis, *args, **kwargs)\u001b[0m\n\u001b[0;32m   4605\u001b[0m     func \u001b[39m=\u001b[39m \u001b[39mdict\u001b[39m(kwargs\u001b[39m.\u001b[39mitems())\n\u001b[0;32m   4607\u001b[0m op \u001b[39m=\u001b[39m SeriesApply(\u001b[39mself\u001b[39m, func, convert_dtype\u001b[39m=\u001b[39m\u001b[39mFalse\u001b[39;00m, args\u001b[39m=\u001b[39margs, kwargs\u001b[39m=\u001b[39mkwargs)\n\u001b[1;32m-> 4608\u001b[0m result \u001b[39m=\u001b[39m op\u001b[39m.\u001b[39;49magg()\n\u001b[0;32m   4609\u001b[0m \u001b[39mreturn\u001b[39;00m result\n",
            "File \u001b[1;32mc:\\Users\\USER\\AppData\\Local\\Programs\\Python\\Python310\\lib\\site-packages\\pandas\\core\\apply.py:1103\u001b[0m, in \u001b[0;36mSeriesApply.agg\u001b[1;34m(self)\u001b[0m\n\u001b[0;32m   1102\u001b[0m \u001b[39mdef\u001b[39;00m \u001b[39magg\u001b[39m(\u001b[39mself\u001b[39m):\n\u001b[1;32m-> 1103\u001b[0m     result \u001b[39m=\u001b[39m \u001b[39msuper\u001b[39;49m()\u001b[39m.\u001b[39;49magg()\n\u001b[0;32m   1104\u001b[0m     \u001b[39mif\u001b[39;00m result \u001b[39mis\u001b[39;00m \u001b[39mNone\u001b[39;00m:\n\u001b[0;32m   1105\u001b[0m         f \u001b[39m=\u001b[39m \u001b[39mself\u001b[39m\u001b[39m.\u001b[39mf\n",
            "File \u001b[1;32mc:\\Users\\USER\\AppData\\Local\\Programs\\Python\\Python310\\lib\\site-packages\\pandas\\core\\apply.py:172\u001b[0m, in \u001b[0;36mApply.agg\u001b[1;34m(self)\u001b[0m\n\u001b[0;32m    169\u001b[0m     \u001b[39mreturn\u001b[39;00m \u001b[39mself\u001b[39m\u001b[39m.\u001b[39magg_dict_like()\n\u001b[0;32m    170\u001b[0m \u001b[39melif\u001b[39;00m is_list_like(arg):\n\u001b[0;32m    171\u001b[0m     \u001b[39m# we require a list, but not a 'str'\u001b[39;00m\n\u001b[1;32m--> 172\u001b[0m     \u001b[39mreturn\u001b[39;00m \u001b[39mself\u001b[39;49m\u001b[39m.\u001b[39;49magg_list_like()\n\u001b[0;32m    174\u001b[0m \u001b[39mif\u001b[39;00m callable(arg):\n\u001b[0;32m    175\u001b[0m     f \u001b[39m=\u001b[39m com\u001b[39m.\u001b[39mget_cython_func(arg)\n",
            "File \u001b[1;32mc:\\Users\\USER\\AppData\\Local\\Programs\\Python\\Python310\\lib\\site-packages\\pandas\\core\\apply.py:360\u001b[0m, in \u001b[0;36mApply.agg_list_like\u001b[1;34m(self)\u001b[0m\n\u001b[0;32m    358\u001b[0m colg \u001b[39m=\u001b[39m obj\u001b[39m.\u001b[39m_gotitem(selected_obj\u001b[39m.\u001b[39mname, ndim\u001b[39m=\u001b[39m\u001b[39m1\u001b[39m, subset\u001b[39m=\u001b[39mselected_obj)\n\u001b[0;32m    359\u001b[0m \u001b[39mtry\u001b[39;00m:\n\u001b[1;32m--> 360\u001b[0m     new_res \u001b[39m=\u001b[39m colg\u001b[39m.\u001b[39;49maggregate(a)\n\u001b[0;32m    362\u001b[0m \u001b[39mexcept\u001b[39;00m \u001b[39mTypeError\u001b[39;00m:\n\u001b[0;32m    363\u001b[0m     failed_names\u001b[39m.\u001b[39mappend(com\u001b[39m.\u001b[39mget_callable_name(a) \u001b[39mor\u001b[39;00m a)\n",
            "File \u001b[1;32mc:\\Users\\USER\\AppData\\Local\\Programs\\Python\\Python310\\lib\\site-packages\\pandas\\core\\series.py:4608\u001b[0m, in \u001b[0;36mSeries.aggregate\u001b[1;34m(self, func, axis, *args, **kwargs)\u001b[0m\n\u001b[0;32m   4605\u001b[0m     func \u001b[39m=\u001b[39m \u001b[39mdict\u001b[39m(kwargs\u001b[39m.\u001b[39mitems())\n\u001b[0;32m   4607\u001b[0m op \u001b[39m=\u001b[39m SeriesApply(\u001b[39mself\u001b[39m, func, convert_dtype\u001b[39m=\u001b[39m\u001b[39mFalse\u001b[39;00m, args\u001b[39m=\u001b[39margs, kwargs\u001b[39m=\u001b[39mkwargs)\n\u001b[1;32m-> 4608\u001b[0m result \u001b[39m=\u001b[39m op\u001b[39m.\u001b[39;49magg()\n\u001b[0;32m   4609\u001b[0m \u001b[39mreturn\u001b[39;00m result\n",
            "File \u001b[1;32mc:\\Users\\USER\\AppData\\Local\\Programs\\Python\\Python310\\lib\\site-packages\\pandas\\core\\apply.py:1103\u001b[0m, in \u001b[0;36mSeriesApply.agg\u001b[1;34m(self)\u001b[0m\n\u001b[0;32m   1102\u001b[0m \u001b[39mdef\u001b[39;00m \u001b[39magg\u001b[39m(\u001b[39mself\u001b[39m):\n\u001b[1;32m-> 1103\u001b[0m     result \u001b[39m=\u001b[39m \u001b[39msuper\u001b[39;49m()\u001b[39m.\u001b[39;49magg()\n\u001b[0;32m   1104\u001b[0m     \u001b[39mif\u001b[39;00m result \u001b[39mis\u001b[39;00m \u001b[39mNone\u001b[39;00m:\n\u001b[0;32m   1105\u001b[0m         f \u001b[39m=\u001b[39m \u001b[39mself\u001b[39m\u001b[39m.\u001b[39mf\n",
            "File \u001b[1;32mc:\\Users\\USER\\AppData\\Local\\Programs\\Python\\Python310\\lib\\site-packages\\pandas\\core\\apply.py:166\u001b[0m, in \u001b[0;36mApply.agg\u001b[1;34m(self)\u001b[0m\n\u001b[0;32m    163\u001b[0m kwargs \u001b[39m=\u001b[39m \u001b[39mself\u001b[39m\u001b[39m.\u001b[39mkwargs\n\u001b[0;32m    165\u001b[0m \u001b[39mif\u001b[39;00m \u001b[39misinstance\u001b[39m(arg, \u001b[39mstr\u001b[39m):\n\u001b[1;32m--> 166\u001b[0m     \u001b[39mreturn\u001b[39;00m \u001b[39mself\u001b[39;49m\u001b[39m.\u001b[39;49mapply_str()\n\u001b[0;32m    168\u001b[0m \u001b[39mif\u001b[39;00m is_dict_like(arg):\n\u001b[0;32m    169\u001b[0m     \u001b[39mreturn\u001b[39;00m \u001b[39mself\u001b[39m\u001b[39m.\u001b[39magg_dict_like()\n",
            "File \u001b[1;32mc:\\Users\\USER\\AppData\\Local\\Programs\\Python\\Python310\\lib\\site-packages\\pandas\\core\\apply.py:557\u001b[0m, in \u001b[0;36mApply.apply_str\u001b[1;34m(self)\u001b[0m\n\u001b[0;32m    555\u001b[0m     \u001b[39melif\u001b[39;00m \u001b[39mself\u001b[39m\u001b[39m.\u001b[39maxis \u001b[39m!=\u001b[39m \u001b[39m0\u001b[39m:\n\u001b[0;32m    556\u001b[0m         \u001b[39mraise\u001b[39;00m \u001b[39mValueError\u001b[39;00m(\u001b[39mf\u001b[39m\u001b[39m\"\u001b[39m\u001b[39mOperation \u001b[39m\u001b[39m{\u001b[39;00mf\u001b[39m}\u001b[39;00m\u001b[39m does not support axis=1\u001b[39m\u001b[39m\"\u001b[39m)\n\u001b[1;32m--> 557\u001b[0m \u001b[39mreturn\u001b[39;00m \u001b[39mself\u001b[39m\u001b[39m.\u001b[39m_try_aggregate_string_function(obj, f, \u001b[39m*\u001b[39m\u001b[39mself\u001b[39m\u001b[39m.\u001b[39margs, \u001b[39m*\u001b[39m\u001b[39m*\u001b[39m\u001b[39mself\u001b[39m\u001b[39m.\u001b[39mkwargs)\n",
            "File \u001b[1;32mc:\\Users\\USER\\AppData\\Local\\Programs\\Python\\Python310\\lib\\site-packages\\pandas\\core\\apply.py:639\u001b[0m, in \u001b[0;36mApply._try_aggregate_string_function\u001b[1;34m(self, obj, arg, *args, **kwargs)\u001b[0m\n\u001b[0;32m    635\u001b[0m \u001b[39mif\u001b[39;00m f \u001b[39mis\u001b[39;00m \u001b[39mnot\u001b[39;00m \u001b[39mNone\u001b[39;00m \u001b[39mand\u001b[39;00m \u001b[39mhasattr\u001b[39m(obj, \u001b[39m\"\u001b[39m\u001b[39m__array__\u001b[39m\u001b[39m\"\u001b[39m):\n\u001b[0;32m    636\u001b[0m     \u001b[39m# in particular exclude Window\u001b[39;00m\n\u001b[0;32m    637\u001b[0m     \u001b[39mreturn\u001b[39;00m f(obj, \u001b[39m*\u001b[39margs, \u001b[39m*\u001b[39m\u001b[39m*\u001b[39mkwargs)\n\u001b[1;32m--> 639\u001b[0m \u001b[39mraise\u001b[39;00m \u001b[39mAttributeError\u001b[39;00m(\n\u001b[0;32m    640\u001b[0m     \u001b[39mf\u001b[39m\u001b[39m\"\u001b[39m\u001b[39m'\u001b[39m\u001b[39m{\u001b[39;00marg\u001b[39m}\u001b[39;00m\u001b[39m'\u001b[39m\u001b[39m is not a valid function for \u001b[39m\u001b[39m'\u001b[39m\u001b[39m{\u001b[39;00m\u001b[39mtype\u001b[39m(obj)\u001b[39m.\u001b[39m\u001b[39m__name__\u001b[39m\u001b[39m}\u001b[39;00m\u001b[39m'\u001b[39m\u001b[39m object\u001b[39m\u001b[39m\"\u001b[39m\n\u001b[0;32m    641\u001b[0m )\n",
            "\u001b[1;31mAttributeError\u001b[0m: 'Survived' is not a valid function for 'Series' object"
          ]
        }
      ],
      "source": [
        "#code goes here\n",
        "df.agg(['Survived'])"
      ]
    },
    {
      "cell_type": "markdown",
      "id": "467953a8-e3d4-4d88-9ad7-3786fb206863",
      "metadata": {
        "id": "467953a8-e3d4-4d88-9ad7-3786fb206863"
      },
      "source": [
        "Show all male survivors from titanic incident (10 pts)"
      ]
    },
    {
      "cell_type": "code",
      "execution_count": null,
      "id": "dfecb4c8-cab1-4556-b9f7-6f477e6c1f37",
      "metadata": {
        "id": "dfecb4c8-cab1-4556-b9f7-6f477e6c1f37"
      },
      "outputs": [],
      "source": [
        "#code goes here"
      ]
    },
    {
      "cell_type": "markdown",
      "id": "5f2a9625-b95c-4f2c-90d7-85851ea6cb2e",
      "metadata": {
        "id": "5f2a9625-b95c-4f2c-90d7-85851ea6cb2e"
      },
      "source": [
        "Show the average fare paid based on gender (10 pts)"
      ]
    },
    {
      "cell_type": "code",
      "execution_count": null,
      "id": "52d7eb93-724c-41a8-a93c-6b7118130875",
      "metadata": {
        "id": "52d7eb93-724c-41a8-a93c-6b7118130875"
      },
      "outputs": [],
      "source": [
        "#code goes here"
      ]
    },
    {
      "cell_type": "markdown",
      "id": "6392e690-c0d1-4c6e-8873-02d8c0c7b610",
      "metadata": {
        "id": "6392e690-c0d1-4c6e-8873-02d8c0c7b610"
      },
      "source": [
        "Show the total amount of passengers who survived and not survived based on gender (10pts)"
      ]
    },
    {
      "cell_type": "code",
      "execution_count": null,
      "id": "381bfdde-9ffc-4b13-aa4d-4ada2e022e19",
      "metadata": {
        "id": "381bfdde-9ffc-4b13-aa4d-4ada2e022e19"
      },
      "outputs": [],
      "source": [
        "#code goes here"
      ]
    }
  ],
  "metadata": {
    "colab": {
      "provenance": []
    },
    "kernelspec": {
      "display_name": "Python 3.10.8 64-bit",
      "language": "python",
      "name": "python3"
    },
    "language_info": {
      "codemirror_mode": {
        "name": "ipython",
        "version": 3
      },
      "file_extension": ".py",
      "mimetype": "text/x-python",
      "name": "python",
      "nbconvert_exporter": "python",
      "pygments_lexer": "ipython3",
      "version": "3.10.8"
    },
    "vscode": {
      "interpreter": {
        "hash": "df95319d8ce4e1d89f5365ae10992bc1f65da593082b1d264e8f529830ec2f02"
      }
    }
  },
  "nbformat": 4,
  "nbformat_minor": 5
}
