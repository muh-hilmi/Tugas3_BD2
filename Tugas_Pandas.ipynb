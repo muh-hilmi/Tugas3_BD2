{
  "cells": [
    {
      "cell_type": "markdown",
      "id": "65e8a51c-b67e-4345-8d9a-c0e5b1f02580",
      "metadata": {
        "id": "65e8a51c-b67e-4345-8d9a-c0e5b1f02580"
      },
      "source": [
        "##Python for Data Analysis : Data Preprocessing with Pandas\n"
      ]
    },
    {
      "cell_type": "markdown",
      "id": "64b41851-3396-461b-a61c-c2b6ab75fbb4",
      "metadata": {
        "id": "64b41851-3396-461b-a61c-c2b6ab75fbb4"
      },
      "source": [
        "# Join\n",
        "\n",
        "Using two of the dataframes below, answer the questions :"
      ]
    },
    {
      "cell_type": "code",
      "execution_count": null,
      "id": "783fc86d-2508-4d40-82f9-3178286e26a3",
      "metadata": {
        "id": "783fc86d-2508-4d40-82f9-3178286e26a3"
      },
      "outputs": [],
      "source": [
        "df1 = pd.DataFrame({'key': ['K0', 'K1', 'K2', 'K3', 'K4', 'K5'],\n",
        "                   'A': ['A0', 'A1', 'A2', 'A3', 'A4', 'A5']})\n",
        "                   \n",
        "df2=pd.DataFrame({'key': ['K0', 'K1', 'K2'],\n",
        "                      'B': ['B0', 'B1', 'B2']})"
      ]
    },
    {
      "cell_type": "code",
      "execution_count": null,
      "id": "7a5b67b5-dfc5-4195-bce5-8b90a6c32a2b",
      "metadata": {
        "id": "7a5b67b5-dfc5-4195-bce5-8b90a6c32a2b"
      },
      "outputs": [],
      "source": [
        "#import libraries here"
      ]
    },
    {
      "cell_type": "markdown",
      "id": "6b0105b8-40ec-47d5-8099-dc778451cbb2",
      "metadata": {
        "id": "6b0105b8-40ec-47d5-8099-dc778451cbb2"
      },
      "source": [
        "### Create a dataframe (df3) which consists both dataframe inner-joined by column \"Key\" (5 pts)"
      ]
    },
    {
      "cell_type": "code",
      "execution_count": null,
      "id": "eb6a1303-f998-41db-b136-d11ad78ae7bf",
      "metadata": {
        "id": "eb6a1303-f998-41db-b136-d11ad78ae7bf"
      },
      "outputs": [],
      "source": [
        "#code goes here"
      ]
    },
    {
      "cell_type": "markdown",
      "id": "e745f272-1841-4b85-8ed0-767a7394a9c9",
      "metadata": {
        "id": "e745f272-1841-4b85-8ed0-767a7394a9c9"
      },
      "source": [
        "### Create a dataframe (df4) which consists of the result of df1 and df2 left-joined by column \"Key\" (10pts)"
      ]
    },
    {
      "cell_type": "code",
      "execution_count": null,
      "id": "dfaccae1-d2c3-48aa-a455-977c89b5a032",
      "metadata": {
        "id": "dfaccae1-d2c3-48aa-a455-977c89b5a032"
      },
      "outputs": [],
      "source": [
        "#code goes here"
      ]
    },
    {
      "cell_type": "markdown",
      "id": "8de93dbb-8281-41b7-a33c-5677f57b3f91",
      "metadata": {
        "id": "8de93dbb-8281-41b7-a33c-5677f57b3f91"
      },
      "source": [
        "#### 1. Replace key \"K2\" into \"K3\" on df1\n",
        "#### 2. Left join it with df2 \n",
        "(15pts)"
      ]
    },
    {
      "cell_type": "code",
      "execution_count": null,
      "id": "58b90686-9275-4c32-8553-4e14ded15183",
      "metadata": {
        "id": "58b90686-9275-4c32-8553-4e14ded15183"
      },
      "outputs": [],
      "source": [
        "#code goes here"
      ]
    },
    {
      "cell_type": "markdown",
      "id": "8fee30c8-b38b-46fa-8b97-3f44060aba8d",
      "metadata": {
        "id": "8fee30c8-b38b-46fa-8b97-3f44060aba8d"
      },
      "source": [
        "# Dataframe Processing\n"
      ]
    },
    {
      "cell_type": "markdown",
      "id": "ad37cd47-c8b2-4c62-af8d-8123786836a3",
      "metadata": {
        "id": "ad37cd47-c8b2-4c62-af8d-8123786836a3"
      },
      "source": [
        "Create a dictionary and convert it to a dataframe called \"Customer_df\" (15 pts)\n",
        "\n",
        "\n",
        "name=['Anna','Jason','Cindy']\n",
        "\n",
        "age=['22','23','21']\n",
        "\n",
        "gender=['F','M','F']\n",
        "\n",
        "\n"
      ]
    },
    {
      "cell_type": "code",
      "execution_count": null,
      "id": "7a32ace6-0362-468f-b381-a45d31006b28",
      "metadata": {
        "id": "7a32ace6-0362-468f-b381-a45d31006b28"
      },
      "outputs": [],
      "source": [
        "#code goes here"
      ]
    },
    {
      "cell_type": "markdown",
      "id": "4b110409-c42c-497f-8922-873c914fc7e6",
      "metadata": {
        "id": "4b110409-c42c-497f-8922-873c914fc7e6"
      },
      "source": [
        "### Delete the \"age\" column (5 pts)"
      ]
    },
    {
      "cell_type": "code",
      "execution_count": null,
      "id": "761d2eb4-14ed-42d6-b6cc-a4f097e64681",
      "metadata": {
        "id": "761d2eb4-14ed-42d6-b6cc-a4f097e64681"
      },
      "outputs": [],
      "source": [
        "#code goes here"
      ]
    },
    {
      "cell_type": "markdown",
      "id": "16a3002f-19e6-456b-8776-d82097d7f110",
      "metadata": {
        "id": "16a3002f-19e6-456b-8776-d82097d7f110"
      },
      "source": [
        "### Rename the \"name\" column into \"first name\" (10 pts)"
      ]
    },
    {
      "cell_type": "code",
      "execution_count": null,
      "id": "320d14c7-a073-417b-9317-0ebd88d2223f",
      "metadata": {
        "id": "320d14c7-a073-417b-9317-0ebd88d2223f"
      },
      "outputs": [],
      "source": [
        "#code goes here"
      ]
    },
    {
      "cell_type": "markdown",
      "id": "1346118a-9b7e-44c3-8dad-6cb5cdbb0333",
      "metadata": {
        "id": "1346118a-9b7e-44c3-8dad-6cb5cdbb0333"
      },
      "source": [
        "### Sort the dataframe by age, descending (10 pts)"
      ]
    },
    {
      "cell_type": "code",
      "execution_count": null,
      "id": "7c4be5dd-3f63-464c-bbc2-6b8c29615568",
      "metadata": {
        "id": "7c4be5dd-3f63-464c-bbc2-6b8c29615568"
      },
      "outputs": [],
      "source": [
        "#code goes here"
      ]
    },
    {
      "cell_type": "markdown",
      "id": "64a09a64-f167-4163-9240-7de099d9c727",
      "metadata": {
        "id": "64a09a64-f167-4163-9240-7de099d9c727"
      },
      "source": [
        "## Run the code below for data source and answer the following questions"
      ]
    },
    {
      "cell_type": "code",
      "execution_count": null,
      "id": "e286adfa-6c32-461b-bc82-33f370018033",
      "metadata": {
        "id": "e286adfa-6c32-461b-bc82-33f370018033"
      },
      "outputs": [],
      "source": [
        "import pandas as pd\n",
        "df=pd.read_csv('http://bit.ly/kaggletrain')"
      ]
    },
    {
      "cell_type": "markdown",
      "id": "7a8e7165-96df-49e5-bc56-2113d6c587b9",
      "metadata": {
        "id": "7a8e7165-96df-49e5-bc56-2113d6c587b9"
      },
      "source": [
        "### Show top 10 rows of the dataset (5 pts)"
      ]
    },
    {
      "cell_type": "code",
      "execution_count": null,
      "id": "6b0412c4-00e4-494a-9412-3b5c534552e7",
      "metadata": {
        "id": "6b0412c4-00e4-494a-9412-3b5c534552e7"
      },
      "outputs": [],
      "source": [
        "#code goes here"
      ]
    },
    {
      "cell_type": "markdown",
      "id": "738432e3-c2cf-42a6-b342-59d8b98d8c78",
      "metadata": {
        "id": "738432e3-c2cf-42a6-b342-59d8b98d8c78"
      },
      "source": [
        "## Using data aggregation in pandas , Answer the question below:"
      ]
    },
    {
      "cell_type": "markdown",
      "id": "f1e2f138-bfde-413d-af1b-36542c4e093d",
      "metadata": {
        "id": "f1e2f138-bfde-413d-af1b-36542c4e093d"
      },
      "source": [
        "Show the total amount of passengers who survived and not survived (10pts)"
      ]
    },
    {
      "cell_type": "code",
      "execution_count": null,
      "id": "e3c78d84-5803-4ef5-a712-43d59b831af4",
      "metadata": {
        "id": "e3c78d84-5803-4ef5-a712-43d59b831af4"
      },
      "outputs": [],
      "source": [
        "#code goes here"
      ]
    },
    {
      "cell_type": "markdown",
      "id": "467953a8-e3d4-4d88-9ad7-3786fb206863",
      "metadata": {
        "id": "467953a8-e3d4-4d88-9ad7-3786fb206863"
      },
      "source": [
        "Show all male survivors from titanic incident (10 pts)"
      ]
    },
    {
      "cell_type": "code",
      "execution_count": null,
      "id": "dfecb4c8-cab1-4556-b9f7-6f477e6c1f37",
      "metadata": {
        "id": "dfecb4c8-cab1-4556-b9f7-6f477e6c1f37"
      },
      "outputs": [],
      "source": [
        "#code goes here"
      ]
    },
    {
      "cell_type": "markdown",
      "id": "5f2a9625-b95c-4f2c-90d7-85851ea6cb2e",
      "metadata": {
        "id": "5f2a9625-b95c-4f2c-90d7-85851ea6cb2e"
      },
      "source": [
        "Show the average fare paid based on gender (10 pts)"
      ]
    },
    {
      "cell_type": "code",
      "execution_count": null,
      "id": "52d7eb93-724c-41a8-a93c-6b7118130875",
      "metadata": {
        "id": "52d7eb93-724c-41a8-a93c-6b7118130875"
      },
      "outputs": [],
      "source": [
        "#code goes here"
      ]
    },
    {
      "cell_type": "markdown",
      "id": "6392e690-c0d1-4c6e-8873-02d8c0c7b610",
      "metadata": {
        "id": "6392e690-c0d1-4c6e-8873-02d8c0c7b610"
      },
      "source": [
        "Show the total amount of passengers who survived and not survived based on gender (10pts)"
      ]
    },
    {
      "cell_type": "code",
      "execution_count": null,
      "id": "381bfdde-9ffc-4b13-aa4d-4ada2e022e19",
      "metadata": {
        "id": "381bfdde-9ffc-4b13-aa4d-4ada2e022e19"
      },
      "outputs": [],
      "source": [
        "#code goes here"
      ]
    }
  ],
  "metadata": {
    "kernelspec": {
      "display_name": "Python 3 (ipykernel)",
      "language": "python",
      "name": "python3"
    },
    "language_info": {
      "codemirror_mode": {
        "name": "ipython",
        "version": 3
      },
      "file_extension": ".py",
      "mimetype": "text/x-python",
      "name": "python",
      "nbconvert_exporter": "python",
      "pygments_lexer": "ipython3",
      "version": "3.9.7"
    },
    "colab": {
      "provenance": []
    }
  },
  "nbformat": 4,
  "nbformat_minor": 5
}